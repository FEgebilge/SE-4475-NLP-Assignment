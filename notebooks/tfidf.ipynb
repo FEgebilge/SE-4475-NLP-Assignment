{
 "cells": [
  {
   "cell_type": "markdown",
   "metadata": {},
   "source": [
    "## Import Required Libraries\n",
    "Add the necessary imports for TF-IDF processing:"
   ]
  },
  {
   "cell_type": "code",
   "execution_count": 1,
   "metadata": {},
   "outputs": [],
   "source": [
    "import os\n",
    "import pickle\n",
    "import logging\n",
    "import pandas as pd\n",
    "from sklearn.feature_extraction.text import TfidfVectorizer\n",
    "\n",
    "\n",
    "logging.basicConfig(level=logging.INFO, format=\"%(asctime)s - %(levelname)s - %(message)s\")\n"
   ]
  },
  {
   "cell_type": "markdown",
   "metadata": {},
   "source": [
    "## Flatten Processed Data for TF-IDF Input\n",
    "Prepare the data by flattening it into a list of documents and their associated labels"
   ]
  },
  {
   "cell_type": "code",
   "execution_count": null,
   "metadata": {},
   "outputs": [],
   "source": [
    "def load_preprocessed_data(pickle_path):\n",
    "    \"\"\"\n",
    "    Load preprocessed data (texts and labels) from a pickle file.\n",
    "\n",
    "    Args:\n",
    "        pickle_path (str): Path to the pickle file.\n",
    "\n",
    "    Returns:\n",
    "        tuple: (list of texts, list of labels)\n",
    "    \"\"\"\n",
    "    try:\n",
    "        with open(pickle_path, \"rb\") as file:\n",
    "            data = pickle.load(file)\n",
    "        logging.info(f\"Loaded preprocessed data from {pickle_path}\")\n",
    "        return data[\"texts\"], data[\"labels\"]\n",
    "    except FileNotFoundError:\n",
    "        logging.error(f\"Pickle file not found at {pickle_path}\")\n",
    "        raise\n",
    "    except Exception as e:\n",
    "        logging.error(f\"Error loading pickle file: {str(e)}\")\n",
    "        raise"
   ]
  },
  {
   "cell_type": "markdown",
   "metadata": {},
   "source": [
    "## Compute TF-IDF\n",
    "Use TfidfVectorizer to transform the documents into a sparse TF-IDF matrix"
   ]
  },
  {
   "cell_type": "code",
   "execution_count": null,
   "metadata": {},
   "outputs": [],
   "source": [
    "def create_tfidf_matrix(documents, max_features=15000, max_df=0.99, min_df=0.00002, ngram_range=(1, 1)):\n",
    "    \"\"\"\n",
    "    Transform preprocessed documents into a TF-IDF matrix.\n",
    "\n",
    "    Args:\n",
    "        documents (list): List of preprocessed and tokenized documents as strings.\n",
    "        max_features (int): Maximum number of features to keep in the TF-IDF matrix.\n",
    "        max_df (float): Maximum document frequency for words (as a proportion).\n",
    "        min_df (float): Minimum document frequency for words (as a proportion).\n",
    "        ngram_range (tuple): The range of n-gram sizes to consider (e.g., unigrams, bigrams).\n",
    "\n",
    "    Returns:\n",
    "        tuple: (TF-IDF sparse matrix, list of feature names)\n",
    "    \"\"\"\n",
    "    try:\n",
    "        vectorizer = TfidfVectorizer(\n",
    "            max_features=max_features,\n",
    "            max_df=max_df,\n",
    "            min_df=min_df,\n",
    "            ngram_range=ngram_range\n",
    "        )\n",
    "        tfidf_matrix = vectorizer.fit_transform(documents)\n",
    "        feature_names = vectorizer.get_feature_names_out()\n",
    "        logging.info(f\"TF-IDF matrix created with {len(feature_names)} features.\")\n",
    "        return tfidf_matrix, feature_names\n",
    "    except Exception as e:\n",
    "        logging.error(f\"Error creating TF-IDF matrix: {str(e)}\")\n",
    "        raise\n"
   ]
  },
  {
   "cell_type": "markdown",
   "metadata": {},
   "source": [
    "## Save TF-IDF as a CSV File\n",
    "Format the data and save it to a CSV file"
   ]
  },
  {
   "cell_type": "code",
   "execution_count": null,
   "metadata": {},
   "outputs": [],
   "source": [
    "def save_tfidf_to_csv(tfidf_matrix, feature_names, labels, output_path):\n",
    "    \"\"\"\n",
    "    Save the TF-IDF matrix along with feature names and labels to a CSV file.\n",
    "\n",
    "    Args:\n",
    "        tfidf_matrix (sparse matrix): Computed TF-IDF matrix.\n",
    "        feature_names (list): List of feature names (vocabulary).\n",
    "        labels (list): List of labels corresponding to the documents.\n",
    "        output_path (str): File path to save the CSV file.\n",
    "    \"\"\"\n",
    "    try:\n",
    "        # Convert the sparse matrix to a dense format\n",
    "        tfidf_dense = tfidf_matrix.toarray()\n",
    "\n",
    "        # Create a DataFrame and add labels as a \"Class\" column\n",
    "        df = pd.DataFrame(tfidf_dense, columns=feature_names)\n",
    "        df[\"Class\"] = labels\n",
    "\n",
    "        # Ensure the output directory exists\n",
    "        os.makedirs(os.path.dirname(output_path), exist_ok=True)\n",
    "\n",
    "        # Save to CSV\n",
    "        df.to_csv(output_path, index=False)\n",
    "        logging.info(f\"TF-IDF matrix saved to {output_path}\")\n",
    "    except Exception as e:\n",
    "        logging.error(f\"Error saving TF-IDF matrix to CSV: {str(e)}\")\n",
    "        raise\n"
   ]
  },
  {
   "cell_type": "code",
   "execution_count": null,
   "metadata": {},
   "outputs": [
    {
     "name": "stderr",
     "output_type": "stream",
     "text": [
      "2024-11-28 23:43:21,227 - INFO - Processed tweets loaded successfully.\n",
      "2024-11-28 23:43:21,228 - INFO - Prepared 2999 documents and 3 unique labels for TF-IDF vectorization.\n",
      "2024-11-28 23:43:21,242 - INFO - Computed TF-IDF matrix with 2761 features.\n",
      "2024-11-28 23:43:23,248 - INFO - TF-IDF matrix successfully saved to '../reports/tfidf_values.csv'.\n"
     ]
    }
   ],
   "source": [
    "processed_tweets_path = \"../data/processed_tweets.pkl\"\n",
    "\n",
    "# Load preprocessed data (texts and labels)\n",
    "texts, labels = load_preprocessed_data(processed_tweets_path)\n",
    "\n",
    "# Create TF-IDF matrix\n",
    "tfidf_matrix, feature_names = create_tfidf_matrix(texts)\n",
    "\n",
    "# Save TF-IDF matrix to CSV\n",
    "output_csv_path = \"../reports/tfidf_values.csv\"\n",
    "save_tfidf_to_csv(tfidf_matrix, feature_names, labels, output_csv_path)\n"
   ]
  }
 ],
 "metadata": {
  "kernelspec": {
   "display_name": "NLP",
   "language": "python",
   "name": "python3"
  },
  "language_info": {
   "codemirror_mode": {
    "name": "ipython",
    "version": 3
   },
   "file_extension": ".py",
   "mimetype": "text/x-python",
   "name": "python",
   "nbconvert_exporter": "python",
   "pygments_lexer": "ipython3",
   "version": "3.11.10"
  }
 },
 "nbformat": 4,
 "nbformat_minor": 2
}
